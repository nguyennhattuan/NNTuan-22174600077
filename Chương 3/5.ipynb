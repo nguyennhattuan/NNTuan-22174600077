{
 "cells": [
  {
   "cell_type": "code",
   "execution_count": null,
   "metadata": {},
   "outputs": [],
   "source": [
    "height = []\n",
    "weight = []\n",
    "\n",
    "with open('heights_1.txt', 'r') as file:\n",
    "    for line in file:\n",
    "        height.append(float(line.strip()))\n",
    "\n",
    "with open('weights_1.txt', 'r') as file:\n",
    "    for line in file:\n",
    "        weight.append(float(line.strip()))"
   ]
  },
  {
   "cell_type": "code",
   "execution_count": 2,
   "metadata": {},
   "outputs": [],
   "source": [
    "import numpy as np\n",
    "\n",
    "arr_height = np.array(height)\n",
    "arr_weight = np.array(weight)"
   ]
  },
  {
   "cell_type": "code",
   "execution_count": 16,
   "metadata": {},
   "outputs": [],
   "source": [
    "arr_height_m = arr_height * 0.0254"
   ]
  },
  {
   "cell_type": "code",
   "execution_count": 15,
   "metadata": {},
   "outputs": [],
   "source": [
    "arr_weight_kg = arr_weight * 0.453592"
   ]
  },
  {
   "cell_type": "code",
   "execution_count": 14,
   "metadata": {},
   "outputs": [],
   "source": [
    "arr_bmi = arr_weight_kg / (arr_height_m ** 2)"
   ]
  },
  {
   "cell_type": "code",
   "execution_count": null,
   "metadata": {},
   "outputs": [],
   "source": [
    "print(arr_weight_kg[50])"
   ]
  },
  {
   "cell_type": "code",
   "execution_count": null,
   "metadata": {},
   "outputs": [],
   "source": [
    "arr_height_m_100 = arr_height_m[100:111]"
   ]
  },
  {
   "cell_type": "code",
   "execution_count": null,
   "metadata": {},
   "outputs": [],
   "source": [
    "underweight_players = arr_bmi < 21\n",
    "print(underweight_players)"
   ]
  },
  {
   "cell_type": "code",
   "execution_count": null,
   "metadata": {},
   "outputs": [],
   "source": [
    "avg_height = np.mean(arr_height_m)\n",
    "avg_weight = np.mean(arr_weight_kg)\n",
    "\n",
    "print(\"Chiều cao trung bình: \", avg_height)\n",
    "print(\"Cân nặng trung bình: \", avg_weight)"
   ]
  },
  {
   "cell_type": "code",
   "execution_count": null,
   "metadata": {},
   "outputs": [],
   "source": [
    "max_height = np.max(arr_height_m)\n",
    "max_weight = np.max(arr_weight_kg)\n",
    "\n",
    "print(\"Chiều cao lớn nhất: \", max_height)\n",
    "print(\"Cân nặng lớn nhất: \", max_weight)"
   ]
  },
  {
   "cell_type": "code",
   "execution_count": null,
   "metadata": {},
   "outputs": [],
   "source": [
    "min_height = np.min(arr_height_m)\n",
    "min_weight = np.min(arr_weight_kg)\n",
    "\n",
    "print(\"Chiều cao nhỏ nhất: \", min_height)\n",
    "print(\"Cân nặng nhỏ nhất: \", min_weight)"
   ]
  }
 ],
 "metadata": {
  "kernelspec": {
   "display_name": "Python 3",
   "language": "python",
   "name": "python3"
  },
  "language_info": {
   "codemirror_mode": {
    "name": "ipython",
    "version": 3
   },
   "file_extension": ".py",
   "mimetype": "text/x-python",
   "name": "python",
   "nbconvert_exporter": "python",
   "pygments_lexer": "ipython3",
   "version": "3.8.2"
  }
 },
 "nbformat": 4,
 "nbformat_minor": 2
}
