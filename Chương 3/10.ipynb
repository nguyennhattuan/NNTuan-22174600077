{
 "cells": [
  {
   "cell_type": "code",
   "execution_count": null,
   "metadata": {},
   "outputs": [],
   "source": [
    "import pandas as pd\n",
    "\n",
    "\n",
    "drink = pd.read_csv('drinks.csv', index_col=0)\n",
    "\n",
    "print(\"Kiểu dữ liệu của drink:\", type(drink))\n",
    "print(\"Kích thước của drink:\", drink.shape)\n",
    "print(\"Tên các cột của drink:\", drink.columns)\n",
    "print(\"5 dòng dữ liệu đầu tiên của drink:\\n\", drink.head())\n",
    "print(\"5 dòng dữ liệu cuối cùng của drink:\\n\", drink.tail())"
   ]
  },
  {
   "cell_type": "code",
   "execution_count": null,
   "metadata": {},
   "outputs": [],
   "source": [
    "average_beer = drink.groupby('continent')['beer_servings'].mean()\n",
    "print(\"Số lượng bia tiêu thụ trung bình ở mỗi châu lục:\\n\", average_beer)"
   ]
  },
  {
   "cell_type": "code",
   "execution_count": null,
   "metadata": {},
   "outputs": [],
   "source": [
    "wine_stats = drink.groupby('continent')['wine_servings'].describe()\n",
    "print(\"Thông tin thống kê tổng quát về số lượng rượu vang được tiêu thụ ở mỗi châu lục:\\n\", wine_stats)"
   ]
  },
  {
   "cell_type": "code",
   "execution_count": null,
   "metadata": {},
   "outputs": [],
   "source": [
    "mean_beer_wine = drink.groupby('continent')[['beer_servings', 'wine_servings']].mean()\n",
    "print(\"Số lượng các loại bia và rượu tiêu thụ trung bình ở mỗi châu lục:\\n\", mean_beer_wine)"
   ]
  },
  {
   "cell_type": "code",
   "execution_count": null,
   "metadata": {},
   "outputs": [],
   "source": [
    "median_beer_wine = drink.groupby('continent')[['beer_servings', 'wine_servings']].median()\n",
    "print(\"Giá trị trung vị cho các loại bia và rượu tiêu thụ ở mỗi châu lục:\\n\", median_beer_wine)"
   ]
  },
  {
   "cell_type": "code",
   "execution_count": null,
   "metadata": {},
   "outputs": [],
   "source": [
    "spirit_stats = drink.groupby('continent')['spirit_servings'].aggregate(['mean', 'max', 'min'])\n",
    "print(\"Số lượng rượu mạnh tiêu thụ trung bình, lớn nhất và nhỏ nhất ở mỗi châu lục:\\n\", spirit_stats)"
   ]
  },
  {
   "cell_type": "code",
   "execution_count": null,
   "metadata": {},
   "outputs": [],
   "source": [
    "sorted_beer = drink.sort_values(by='beer_servings', ascending=False)\n",
    "top_5_beer_consumers = sorted_beer.head(5)\n",
    "bottom_5_beer_consumers = sorted_beer.tail(5)\n",
    "print(\"5 quốc gia có lượng tiêu thụ bia nhiều nhất:\\n\", top_5_beer_consumers[['beer_servings']])\n",
    "print(\"5 quốc gia có lượng tiêu thụ bia ít nhất:\\n\", bottom_5_beer_consumers[['beer_servings']])"
   ]
  }
 ],
 "metadata": {
  "kernelspec": {
   "display_name": "Python 3",
   "language": "python",
   "name": "python3"
  },
  "language_info": {
   "codemirror_mode": {
    "name": "ipython",
    "version": 3
   },
   "file_extension": ".py",
   "mimetype": "text/x-python",
   "name": "python",
   "nbconvert_exporter": "python",
   "pygments_lexer": "ipython3",
   "version": "3.8.2"
  }
 },
 "nbformat": 4,
 "nbformat_minor": 2
}
