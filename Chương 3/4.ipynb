{
 "cells": [
  {
   "cell_type": "code",
   "execution_count": 1,
   "metadata": {},
   "outputs": [],
   "source": [
    "import numpy as np\n"
   ]
  },
  {
   "cell_type": "code",
   "execution_count": 4,
   "metadata": {},
   "outputs": [
    {
     "name": "stdout",
     "output_type": "stream",
     "text": [
      "[0 0 0 0 1 0 0 0 0 0]\n"
     ]
    }
   ],
   "source": [
    "\n",
    "arr_zeros = np.zeros(10, dtype=int)\n",
    "\n",
    "\n",
    "arr_zeros[4] = 1\n",
    "\n",
    "print(arr_zeros)\n"
   ]
  },
  {
   "cell_type": "code",
   "execution_count": 5,
   "metadata": {},
   "outputs": [
    {
     "name": "stdout",
     "output_type": "stream",
     "text": [
      "[24 23 22 21 20 19 18 17 16 15 14 13 12 11 10]\n"
     ]
    }
   ],
   "source": [
    "arr_h = np.arange(10, 25)\n",
    "\n",
    "print(arr_h[::-1])"
   ]
  },
  {
   "cell_type": "code",
   "execution_count": 10,
   "metadata": {},
   "outputs": [
    {
     "name": "stdout",
     "output_type": "stream",
     "text": [
      "[1 2 8 2 1 3 5]\n",
      "[ 1  2  8  2  1  3  5 10 20]\n",
      "[  1   2   8   2   1 100   5  10  20]\n",
      "[  8   2   1 100   5  10  20]\n"
     ]
    }
   ],
   "source": [
    "arr_k = np.array([1, 2, 0, 8, 2, 0, 1, 3, 0, 5, 0])\n",
    "\n",
    "arr_l = arr_k[arr_k != 0]\n",
    "\n",
    "print(arr_l)\n",
    "\n",
    "arr_1 = np.append(arr_l, [10, 20])\n",
    "print(arr_1)\n",
    "\n",
    "arr_1[5] = 100\n",
    "print(arr_1)\n",
    "print(arr_1[2:])"
   ]
  }
 ],
 "metadata": {
  "kernelspec": {
   "display_name": "Python 3",
   "language": "python",
   "name": "python3"
  },
  "language_info": {
   "codemirror_mode": {
    "name": "ipython",
    "version": 3
   },
   "file_extension": ".py",
   "mimetype": "text/x-python",
   "name": "python",
   "nbconvert_exporter": "python",
   "pygments_lexer": "ipython3",
   "version": "3.8.2"
  }
 },
 "nbformat": 4,
 "nbformat_minor": 2
}
