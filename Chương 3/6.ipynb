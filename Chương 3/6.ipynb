{
 "cells": [
  {
   "cell_type": "code",
   "execution_count": null,
   "metadata": {},
   "outputs": [],
   "source": [
    "import numpy as np\n",
    "\n",
    "# Câu 1\n",
    "arr = np.full((3, 3), True)\n",
    "print(\"Câu 1:\\n\", arr)\n",
    "\n",
    "# Câu 2\n",
    "arr_1D = np.array([0, 1, 2, 3, 4, 5, 6, 7, 8])\n",
    "arr_2D = arr_1D.reshape(3, 3)\n",
    "arr_2D[:, [0, 2]] = arr_2D[:, [2, 0]]\n",
    "print(\"Câu 2:\\n\", arr_2D)\n",
    "\n",
    "# Câu 3\n",
    "arr_2D[[0, 1], :] = arr_2D[[1, 0], :]\n",
    "print(\"Câu 3:\\n\", arr_2D)\n",
    "\n",
    "# Câu 4\n",
    "arr_2D = np.flip(arr_2D, axis=0)\n",
    "print(\"Câu 4:\\n\", arr_2D)\n",
    "\n",
    "# Câu 5\n",
    "arr_2D = np.flip(arr_2D, axis=1)\n",
    "print(\"Câu 5:\\n\", arr_2D)\n",
    "\n",
    "# Câu 6\n",
    "arr_2D_null = np.array([[1, 2, 3], [np.NaN, 5, 6], [7, np.NaN, 9], [4, 5, 6]])\n",
    "print(\"Câu 6:\\n\", np.isnan(arr_2D_null))\n",
    "\n",
    "# Câu 7\n",
    "arr_2D_null[np.isnan(arr_2D_null)] = 0\n",
    "print(\"Câu 7:\\n\", arr_2D_null)\n"
   ]
  }
 ],
 "metadata": {
  "kernelspec": {
   "display_name": "Python 3",
   "language": "python",
   "name": "python3"
  },
  "language_info": {
   "codemirror_mode": {
    "name": "ipython",
    "version": 3
   },
   "file_extension": ".py",
   "mimetype": "text/x-python",
   "name": "python",
   "nbconvert_exporter": "python",
   "pygments_lexer": "ipython3",
   "version": "3.8.2"
  }
 },
 "nbformat": 4,
 "nbformat_minor": 2
}
